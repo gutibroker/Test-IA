{
  "nbformat": 4,
  "nbformat_minor": 0,
  "metadata": {
    "colab": {
      "provenance": [],
      "authorship_tag": "ABX9TyPgazkYgaLQfVL/Ys/cpUyB",
      "include_colab_link": true
    },
    "kernelspec": {
      "name": "python3",
      "display_name": "Python 3"
    },
    "language_info": {
      "name": "python"
    }
  },
  "cells": [
    {
      "cell_type": "markdown",
      "metadata": {
        "id": "view-in-github",
        "colab_type": "text"
      },
      "source": [
        "<a href=\"https://colab.research.google.com/github/gutibroker/Test-IA/blob/main/Copia_de_Untitled0.ipynb\" target=\"_parent\"><img src=\"https://colab.research.google.com/assets/colab-badge.svg\" alt=\"Open In Colab\"/></a>"
      ]
    },
    {
      "cell_type": "code",
      "source": [
        "print(\"Hola, mundo — listo para aprender Python\")"
      ],
      "metadata": {
        "id": "-Z4vsAE-OMpa",
        "colab": {
          "base_uri": "https://localhost:8080/"
        },
        "outputId": "c14f882c-8561-4ac0-ae7f-c4d590625cdf"
      },
      "execution_count": 2,
      "outputs": [
        {
          "output_type": "stream",
          "name": "stdout",
          "text": [
            "Hola, mundo — listo para aprender Python\n"
          ]
        }
      ]
    },
    {
      "cell_type": "code",
      "source": [
        "# crea una lista de saldos ficticios\n",
        "saldos = [1200, 4500, 300, 9800, 1500]\n",
        "# suma y media\n",
        "total = sum(saldos)\n",
        "media = total / len(saldos)\n",
        "print(\"Total:\", total, \"Media:\", media)\n",
        "\n",
        "# diccionario de clientes\n",
        "clientes = {\"CU001\": \"Empresa A\", \"CU002\": \"Empresa B\"}\n",
        "for idc, nombre in clientes.items():\n",
        "    print(idc, nombre)"
      ],
      "metadata": {
        "colab": {
          "base_uri": "https://localhost:8080/"
        },
        "id": "gVSnSDRrPybm",
        "outputId": "7f20813b-7da4-46cf-8db8-3f63b80ffae3"
      },
      "execution_count": 1,
      "outputs": [
        {
          "output_type": "stream",
          "name": "stdout",
          "text": [
            "Total: 17300 Media: 3460.0\n",
            "CU001 Empresa A\n",
            "CU002 Empresa B\n"
          ]
        }
      ]
    }
  ]
}