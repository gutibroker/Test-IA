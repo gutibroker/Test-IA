{
  "nbformat": 4,
  "nbformat_minor": 0,
  "metadata": {
    "colab": {
      "provenance": [],
      "authorship_tag": "ABX9TyPNutpJ+9ztbBXLedOE0ym7",
      "include_colab_link": true
    },
    "kernelspec": {
      "name": "python3",
      "display_name": "Python 3"
    },
    "language_info": {
      "name": "python"
    }
  },
  "cells": [
    {
      "cell_type": "markdown",
      "metadata": {
        "id": "view-in-github",
        "colab_type": "text"
      },
      "source": [
        "<a href=\"https://colab.research.google.com/github/gutibroker/Test-IA/blob/main/Copia_de_Untitled0.ipynb\" target=\"_parent\"><img src=\"https://colab.research.google.com/assets/colab-badge.svg\" alt=\"Open In Colab\"/></a>"
      ]
    },
    {
      "cell_type": "code",
      "execution_count": null,
      "metadata": {
        "id": "_tSh-Yv0NaYk"
      },
      "outputs": [],
      "source": []
    },
    {
      "cell_type": "markdown",
      "source": [
        "print(\"Hola, mundo — listo para aprender Python\")"
      ],
      "metadata": {
        "id": "qmVGgowHOGaM"
      }
    },
    {
      "cell_type": "code",
      "source": [
        "print(\"Hola, mundo — listo para aprender Python\")"
      ],
      "metadata": {
        "id": "-Z4vsAE-OMpa"
      },
      "execution_count": null,
      "outputs": []
    }
  ]
}