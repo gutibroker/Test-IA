{
  "nbformat": 4,
  "nbformat_minor": 0,
  "metadata": {
    "colab": {
      "provenance": [],
      "authorship_tag": "ABX9TyORzWYuT7vW4IxGqyL3v/W3",
      "include_colab_link": true
    },
    "kernelspec": {
      "name": "python3",
      "display_name": "Python 3"
    },
    "language_info": {
      "name": "python"
    }
  },
  "cells": [
    {
      "cell_type": "markdown",
      "metadata": {
        "id": "view-in-github",
        "colab_type": "text"
      },
      "source": [
        "<a href=\"https://colab.research.google.com/github/gutibroker/Test-IA/blob/main/Copia_de_Untitled0.ipynb\" target=\"_parent\"><img src=\"https://colab.research.google.com/assets/colab-badge.svg\" alt=\"Open In Colab\"/></a>"
      ]
    },
    {
      "cell_type": "code",
      "source": [
        "print(\"Hola, mundo — listo para aprender Python\")"
      ],
      "metadata": {
        "id": "-Z4vsAE-OMpa",
        "colab": {
          "base_uri": "https://localhost:8080/"
        },
        "outputId": "c14f882c-8561-4ac0-ae7f-c4d590625cdf"
      },
      "execution_count": 2,
      "outputs": [
        {
          "output_type": "stream",
          "name": "stdout",
          "text": [
            "Hola, mundo — listo para aprender Python\n"
          ]
        }
      ]
    },
    {
      "cell_type": "code",
      "source": [
        "# crea una lista de saldos ficticios\n",
        "saldos = [1200, 4500, 300, 9800, 1500]\n",
        "# suma y media\n",
        "total = sum(saldos)\n",
        "media = total / len(saldos)\n",
        "print(\"Total:\", total, \"Media:\", media)\n",
        "\n",
        "# diccionario de clientes\n",
        "clientes = {\"CU001\": \"Empresa A\", \"CU002\": \"Empresa B\", \"CU003\": \"Empresa C\",\"CU004\": \"Empresa D\", \"CU005\": \"Empresa E\"}\n",
        "for idc, nombre in clientes.items():\n",
        "    print(idc, nombre)"
      ],
      "metadata": {
        "colab": {
          "base_uri": "https://localhost:8080/"
        },
        "id": "gVSnSDRrPybm",
        "outputId": "5e9b17f2-0ec6-43af-e6f1-ac16fb2fff60"
      },
      "execution_count": 6,
      "outputs": [
        {
          "output_type": "stream",
          "name": "stdout",
          "text": [
            "Total: 17300 Media: 3460.0\n",
            "CU001 Empresa A\n",
            "CU002 Empresa B\n",
            "CU003 Empresa C\n",
            "CU004 Empresa D\n",
            "CU005 Empresa E\n"
          ]
        }
      ]
    },
    {
      "cell_type": "code",
      "source": [
        "# crea un diccionario de saldos\n",
        "saldos_clientes = {\"CU001\": 1200, \"CU002\": 4500, \"CU003\": 300, \"CU004\": 9800, \"CU005\": 1500}\n",
        "\n",
        "# encuentra el cliente con el mayor saldo\n",
        "cliente_mayor_saldo = max(saldos_clientes, key=saldos_clientes.get)\n",
        "\n",
        "# imprime el cliente con el mayor saldo y su saldo\n",
        "print(f\"El cliente con el mayor saldo es: {clientes[cliente_mayor_saldo]} ({cliente_mayor_saldo}) con un saldo de: {saldos_clientes[cliente_mayor_saldo]}\")"
      ],
      "metadata": {
        "colab": {
          "base_uri": "https://localhost:8080/"
        },
        "id": "fO8uDjugTFiP",
        "outputId": "542d453e-609a-4b8d-e175-3a3b450e4ded"
      },
      "execution_count": 7,
      "outputs": [
        {
          "output_type": "stream",
          "name": "stdout",
          "text": [
            "El cliente con el mayor saldo es: Empresa D (CU004) con un saldo de: 9800\n"
          ]
        }
      ]
    },
    {
      "cell_type": "code",
      "source": [
        "# encuentra el cliente con el menor saldo\n",
        "cliente_menor_saldo = min(saldos_clientes, key=saldos_clientes.get)\n",
        "\n",
        "# imprime el cliente con el mayor saldo y su saldo\n",
        "print(f\"El cliente con el menor saldo es: {clientes[cliente_menor_saldo]} ({cliente_menor_saldo}) con un saldo de: {saldos_clientes[cliente_menor_saldo]}\")"
      ],
      "metadata": {
        "colab": {
          "base_uri": "https://localhost:8080/"
        },
        "id": "OaDs5fghUVDw",
        "outputId": "5f4e809b-a11f-44b9-f348-5a7be527538f"
      },
      "execution_count": 11,
      "outputs": [
        {
          "output_type": "stream",
          "name": "stdout",
          "text": [
            "El cliente con el menor saldo es: Empresa C (CU003) con un saldo de: 300\n"
          ]
        }
      ]
    }
  ]
}